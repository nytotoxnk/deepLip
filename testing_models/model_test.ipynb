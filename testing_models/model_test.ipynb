{
 "cells": [
  {
   "cell_type": "markdown",
   "id": "dd7feada",
   "metadata": {},
   "source": [
    "Whisper large v3 turbo shqip"
   ]
  },
  {
   "cell_type": "code",
   "execution_count": null,
   "id": "fbdf9a09",
   "metadata": {},
   "outputs": [],
   "source": [
    "%pip install transformers librosa soundfile"
   ]
  },
  {
   "cell_type": "markdown",
   "id": "41f7dedf",
   "metadata": {},
   "source": [
    "Kushtrim using whisper large v3 turbo fine tuned for albanian language using 200 curated hours of dataset"
   ]
  },
  {
   "cell_type": "code",
   "execution_count": null,
   "id": "eec54722",
   "metadata": {},
   "outputs": [],
   "source": [
    "# Use a pipeline as a high-level helper\n",
    "from transformers import pipeline\n",
    "\n",
    "pipe = pipeline(\"automatic-speech-recognition\", model=\"Kushtrim/whisper-large-v3-turbo-shqip\")"
   ]
  },
  {
   "cell_type": "markdown",
   "id": "da590faf",
   "metadata": {},
   "source": [
    "Alimzhan using wav2vec2 large xls r 300m"
   ]
  },
  {
   "cell_type": "code",
   "execution_count": null,
   "id": "93001dd3",
   "metadata": {},
   "outputs": [],
   "source": [
    "from transformers import pipeline\n",
    "\n",
    "# Load the automatic speech recognition pipeline with the specified model\n",
    "transcriber = pipeline(\"automatic-speech-recognition\", model=\"Alimzhan/wav2vec2-large-xls-r-300m-albanian-colab\")\n",
    "\n",
    "# Example usage with a local audio file\n",
    "audio_file_path = \"output/audio.wav\"  # Replace with the actual path\n",
    "\n",
    "try:\n",
    "    transcription = transcriber(audio_file_path)\n",
    "    print(f\"Transcription of '{audio_file_path}': {transcription['text']}\")\n",
    "except Exception as e:\n",
    "    print(f\"Error during transcription: {e}\")\n",
    "\n",
    "# Example usage with audio data loaded into a NumPy array (e.g., from librosa)\n",
    "import librosa\n",
    "import numpy as np\n",
    "\n",
    "audio_array, sampling_rate = librosa.load(\"path/to/your/another_audio.mp3\", sr=16000) # Ensure correct sampling rate if needed\n",
    "\n",
    "try:\n",
    "    transcription_from_array = transcriber({\"raw\": audio_array, \"sampling_rate\": sampling_rate})\n",
    "    print(f\"Transcription from array: {transcription_from_array['text']}\")\n",
    "except Exception as e:\n",
    "    print(f\"Error during transcription from array: {e}\")"
   ]
  }
 ],
 "metadata": {
  "kernelspec": {
   "display_name": "venv",
   "language": "python",
   "name": "python3"
  },
  "language_info": {
   "name": "python",
   "version": "3.13.2"
  }
 },
 "nbformat": 4,
 "nbformat_minor": 5
}
