{
 "cells": [
  {
   "cell_type": "markdown",
   "metadata": {},
   "source": [
    "**Lip synchronization dubbing from albanian to [language]**"
   ]
  },
  {
   "cell_type": "markdown",
   "metadata": {},
   "source": [
    "Imports"
   ]
  },
  {
   "cell_type": "code",
   "execution_count": 1,
   "metadata": {},
   "outputs": [],
   "source": [
    "import os\n",
    "\n",
    "from google.api_core.client_options import ClientOptions\n",
    "from google.cloud.speech_v2 import SpeechClient\n",
    "from google.cloud.speech_v2.types import cloud_speech"
   ]
  },
  {
   "cell_type": "markdown",
   "metadata": {},
   "source": [
    "Google cloud data"
   ]
  },
  {
   "cell_type": "code",
   "execution_count": 2,
   "metadata": {},
   "outputs": [],
   "source": [
    "PROJECT_ID = \"890676014334\"\n",
    "LOCATION = \"europe-west4\"\n",
    "\n",
    "# Chirp 2 is only available in certain locations\n",
    "client_options_var = ClientOptions(api_endpoint=\"europe-west4-speech.googleapis.com\")\n",
    "\n",
    "# Initialize the client\n",
    "client = SpeechClient(client_options=client_options_var)\n",
    "recogniser = f\"projects/{PROJECT_ID}/locations/{LOCATION}/recognizers/albanian-recogniser\""
   ]
  },
  {
   "cell_type": "markdown",
   "metadata": {},
   "source": [
    "Audio extraction"
   ]
  },
  {
   "cell_type": "code",
   "execution_count": 3,
   "metadata": {},
   "outputs": [
    {
     "name": "stdout",
     "output_type": "stream",
     "text": [
      "Audio extracted from 'videos\\20250403_161711.mp4' and saved as 'full_length_extracted_audios\\20250403_161711.wav'\n",
      "Audio extracted from 'videos\\20250408_212848.mp4' and saved as 'full_length_extracted_audios\\20250408_212848.wav'\n",
      "Audio extracted from 'videos\\20250421_195822.mp4' and saved as 'full_length_extracted_audios\\20250421_195822.wav'\n",
      "Audio extracted from 'videos\\20250421_201934.mp4' and saved as 'full_length_extracted_audios\\20250421_201934.wav'\n",
      "Audio extracted from 'videos\\20250421_203247.mp4' and saved as 'full_length_extracted_audios\\20250421_203247.wav'\n",
      "Audio extracted from 'videos\\20250429_115056.mp4' and saved as 'full_length_extracted_audios\\20250429_115056.wav'\n",
      "Audio extracted from 'videos\\20250429_115126.mp4' and saved as 'full_length_extracted_audios\\20250429_115126.wav'\n",
      "Audio extracted from 'videos\\20250429_115242.mp4' and saved as 'full_length_extracted_audios\\20250429_115242.wav'\n",
      "Audio extracted from 'videos\\20250429_115317.mp4' and saved as 'full_length_extracted_audios\\20250429_115317.wav'\n",
      "Audio extracted from 'videos\\20250429_115528.mp4' and saved as 'full_length_extracted_audios\\20250429_115528.wav'\n",
      "Audio extracted from 'videos\\20250429_125651.mp4' and saved as 'full_length_extracted_audios\\20250429_125651.wav'\n",
      "Audio extracted from 'videos\\20250429_125844.mp4' and saved as 'full_length_extracted_audios\\20250429_125844.wav'\n",
      "Audio extracted from 'videos\\20250429_130234.mp4' and saved as 'full_length_extracted_audios\\20250429_130234.wav'\n",
      "Audio extracted from 'videos\\20250429_130503.mp4' and saved as 'full_length_extracted_audios\\20250429_130503.wav'\n",
      "Audio extracted from 'videos\\20250429_130637.mp4' and saved as 'full_length_extracted_audios\\20250429_130637.wav'\n",
      "Audio extracted from 'videos\\20250429_130924.mp4' and saved as 'full_length_extracted_audios\\20250429_130924.wav'\n",
      "Audio extracted from 'videos\\20250429_135454.mp4' and saved as 'full_length_extracted_audios\\20250429_135454.wav'\n",
      "Audio extracted from 'videos\\20250429_141700.mp4' and saved as 'full_length_extracted_audios\\20250429_141700.wav'\n",
      "Audio extracted from 'videos\\20250429_142152.mp4' and saved as 'full_length_extracted_audios\\20250429_142152.wav'\n",
      "Audio extracted from 'videos\\20250429_164258.mp4' and saved as 'full_length_extracted_audios\\20250429_164258.wav'\n",
      "Audio extracted from 'videos\\20250516_183037.mp4' and saved as 'full_length_extracted_audios\\20250516_183037.wav'\n",
      "Audio extracted from 'videos\\20250516_183142.mp4' and saved as 'full_length_extracted_audios\\20250516_183142.wav'\n",
      "Audio extracted from 'videos\\20250516_183209.mp4' and saved as 'full_length_extracted_audios\\20250516_183209.wav'\n",
      "Audio extracted from 'videos\\20250516_183223.mp4' and saved as 'full_length_extracted_audios\\20250516_183223.wav'\n",
      "Audio extracted from 'videos\\20250516_183235.mp4' and saved as 'full_length_extracted_audios\\20250516_183235.wav'\n",
      "Audio extracted from 'videos\\20250516_183255.mp4' and saved as 'full_length_extracted_audios\\20250516_183255.wav'\n",
      "Audio extracted from 'videos\\20250516_183305.mp4' and saved as 'full_length_extracted_audios\\20250516_183305.wav'\n",
      "Audio extracted from 'videos\\20250516_183318.mp4' and saved as 'full_length_extracted_audios\\20250516_183318.wav'\n",
      "Audio extracted from 'videos\\20250516_183328.mp4' and saved as 'full_length_extracted_audios\\20250516_183328.wav'\n",
      "Audio extracted from 'videos\\20250516_183338.mp4' and saved as 'full_length_extracted_audios\\20250516_183338.wav'\n",
      "Audio extracted from 'videos\\20250516_183349.mp4' and saved as 'full_length_extracted_audios\\20250516_183349.wav'\n",
      "Audio extracted from 'videos\\20250516_183402.mp4' and saved as 'full_length_extracted_audios\\20250516_183402.wav'\n",
      "Audio extracted from 'videos\\20250516_223040.mp4' and saved as 'full_length_extracted_audios\\20250516_223040.wav'\n",
      "Audio extracted from 'videos\\20250516_223051.mp4' and saved as 'full_length_extracted_audios\\20250516_223051.wav'\n",
      "Audio extracted from 'videos\\20250516_223105.mp4' and saved as 'full_length_extracted_audios\\20250516_223105.wav'\n",
      "Audio extracted from 'videos\\20250516_223120.mp4' and saved as 'full_length_extracted_audios\\20250516_223120.wav'\n",
      "Audio extracted from 'videos\\20250516_223132.mp4' and saved as 'full_length_extracted_audios\\20250516_223132.wav'\n",
      "Audio extracted from 'videos\\20250516_223143.mp4' and saved as 'full_length_extracted_audios\\20250516_223143.wav'\n",
      "Audio extracted from 'videos\\20250516_223156.mp4' and saved as 'full_length_extracted_audios\\20250516_223156.wav'\n",
      "Audio extracted from 'videos\\20250516_223208.mp4' and saved as 'full_length_extracted_audios\\20250516_223208.wav'\n",
      "Audio extracted from 'videos\\20250516_223221.mp4' and saved as 'full_length_extracted_audios\\20250516_223221.wav'\n",
      "Audio extracted from 'videos\\20250516_223236.mp4' and saved as 'full_length_extracted_audios\\20250516_223236.wav'\n",
      "Audio extracted from 'videos\\20250516_223248.mp4' and saved as 'full_length_extracted_audios\\20250516_223248.wav'\n",
      "Audio extracted from 'videos\\20250517_202939.mp4' and saved as 'full_length_extracted_audios\\20250517_202939.wav'\n",
      "Audio extracted from 'videos\\20250517_203018.mp4' and saved as 'full_length_extracted_audios\\20250517_203018.wav'\n",
      "Audio extracted from 'videos\\20250517_203032.mp4' and saved as 'full_length_extracted_audios\\20250517_203032.wav'\n",
      "Audio extracted from 'videos\\20250517_203048.mp4' and saved as 'full_length_extracted_audios\\20250517_203048.wav'\n",
      "Audio extracted from 'videos\\20250517_203102.mp4' and saved as 'full_length_extracted_audios\\20250517_203102.wav'\n",
      "Audio extracted from 'videos\\20250517_203122.mp4' and saved as 'full_length_extracted_audios\\20250517_203122.wav'\n",
      "Audio extracted from 'videos\\20250517_203136.mp4' and saved as 'full_length_extracted_audios\\20250517_203136.wav'\n",
      "Audio extracted from 'videos\\20250517_203151.mp4' and saved as 'full_length_extracted_audios\\20250517_203151.wav'\n",
      "Audio extracted from 'videos\\20250517_203206.mp4' and saved as 'full_length_extracted_audios\\20250517_203206.wav'\n",
      "Audio extracted from 'videos\\20250517_203238.mp4' and saved as 'full_length_extracted_audios\\20250517_203238.wav'\n"
     ]
    }
   ],
   "source": [
    "import subprocess\n",
    "import os\n",
    "def extract_audio_ffmpeg(video_file, output_folder):\n",
    "    try:\n",
    "        # Create the output folder if it doesn't exist.\n",
    "        if not os.path.exists(output_folder):\n",
    "            os.makedirs(output_folder)\n",
    "\n",
    "        # Construct the output audio file name.\n",
    "        video_file_name = os.path.splitext(os.path.basename(video_file))[0]\n",
    "        audio_file_path = os.path.join(output_folder, f\"{video_file_name}.wav\")\n",
    "        \"\"\"\n",
    "        # Build the FFmpeg command.\n",
    "        command = [\n",
    "            \"ffmpeg\",\n",
    "            \"-i\",\n",
    "            video_file,\n",
    "            \"-vn\", # No video\n",
    "            \"-acodec\",\n",
    "            \"pcm_s16le\",  # Lossless, signed 16-bit PCM (linear16)\n",
    "            \"-ar\",\n",
    "            \"16000\",      # Sampling rate 16kHz\n",
    "            audio_file_path,\n",
    "        ]\n",
    "        \"\"\"\n",
    "        command = [\n",
    "            \"ffmpeg\",\n",
    "            \"-i\",\n",
    "            video_file,\n",
    "            \"-vn\", # No video\n",
    "            \"-acodec\",\n",
    "            \"flac\",  # Lossless, signed 16-bit PCM (linear16)\n",
    "            \"-ac\",   # Number of audio channels\n",
    "            \"1\",     # Mono\n",
    "            \"-sample_fmt\",\n",
    "            \"s16\",  # Signed 16-bit PCM\n",
    "            \"-ar\",\n",
    "            \"16000\",      # Sampling rate 16kHz\n",
    "            audio_file_path,\n",
    "        ]\n",
    "        \n",
    "        \n",
    "        # Execute the FFmpeg command using subprocess.\n",
    "        subprocess.run(command, check=True, capture_output=True) #capture_output=True added\n",
    "\n",
    "        print(f\"Audio extracted from '{video_file}' and saved as '{audio_file_path}'\")\n",
    "\n",
    "    except subprocess.CalledProcessError as e:\n",
    "        print(f\"Error processing {video_file}: FFmpeg error: {e.stderr.decode()}\") #e.stderr added\n",
    "    except Exception as e:\n",
    "        print(f\"Error processing {video_file}: {e}\")\n",
    "\n",
    "def process_videos_in_folder_ffmpeg(video_folder, output_folder):\n",
    "    # Get a list of all files in the video folder.\n",
    "    for filename in os.listdir(video_folder):\n",
    "        # Construct the full path to the file.\n",
    "        video_file = os.path.join(video_folder, filename)\n",
    "\n",
    "        # Check if the file is a video file.\n",
    "        if filename.lower().endswith(('.mp4', '.avi', '.mov', '.mkv', '.wmv')):\n",
    "            # Extract the audio from the video file using FFmpeg.\n",
    "            extract_audio_ffmpeg(video_file, output_folder)\n",
    "        else:\n",
    "            print(f\"Skipping non-video file: {video_file}\")\n",
    "\n",
    "\n",
    "video_folder = \"videos\"\n",
    "output_folder = \"full_length_extracted_audios\"\n",
    "\n",
    "# Process all video files in the specified folder using FFmpeg.\n",
    "process_videos_in_folder_ffmpeg(video_folder, output_folder)\n"
   ]
  },
  {
   "cell_type": "markdown",
   "metadata": {},
   "source": [
    "Transcribing the videos"
   ]
  },
  {
   "cell_type": "code",
   "execution_count": 5,
   "metadata": {},
   "outputs": [
    {
     "name": "stdout",
     "output_type": "stream",
     "text": [
      "Error transcribing extracted_audios\\20250403_161711.wav: type object 'RecognitionConfig' has no attribute 'AudioEncoding'\n"
     ]
    }
   ],
   "source": [
    "def transcribe_audio_file(audio_path, client, recogniser, base_name):\n",
    "    # Read file as bytes to send to Google API\n",
    "    try:\n",
    "        with open(audio_path, \"rb\") as f:\n",
    "            audio_content = f.read()\n",
    "    except Exception as e:\n",
    "        print(f\"Error reading file {audio_path}: {e}\")\n",
    "        return\n",
    "    \n",
    "    try:\n",
    "        config = cloud_speech.RecognitionConfig(\n",
    "            explicit_decoding_config=cloud_speech.ExplicitDecodingConfig(\n",
    "                encoding=cloud_speech.RecognitionConfig.AudioEncoding(1),\n",
    "                sample_rate_hertz=16000,\n",
    "                audio_channel_count=2\n",
    "            ),\n",
    "            language_codes=[\"sq-AL\"], \n",
    "            model=\"chirp_2\",\n",
    "        )\n",
    "                \n",
    "        request = cloud_speech.RecognizeRequest(\n",
    "            recognizer=recogniser,\n",
    "            config=config,\n",
    "            content=audio_content\n",
    "        )\n",
    "                \n",
    "        # Transcribes the audio into text\n",
    "        response = client.recognize(request=request)\n",
    "        \n",
    "        if response.results:\n",
    "           top_alternative = response.results[0].alternatives[0]\n",
    "           confidence = top_alternative.confidence\n",
    "           transcript = top_alternative.transcript\n",
    "\n",
    "           with open(base_name, \"a\", encoding=\"utf-8\") as f:\n",
    "               f.write(f\"{audio_path}:{confidence}:{transcript}\\n\")\n",
    "        else:\n",
    "            print(f\"No transcription results for {audio_path}\")\n",
    "\n",
    "    except Exception as e:\n",
    "        print(f\"Error transcribing {audio_path}: {e}\")\n",
    "\n",
    "def process_audio_folder():    \n",
    "    # Folder containing audio files\n",
    "    audio_folder = \"extracted_audios\"  # Change this to your folder path\n",
    "    \n",
    "    # Base name for the transcription file\n",
    "    base_name = audio_folder + \"/transcription_alb.txt\"\n",
    "    \n",
    "    # Supported audio file extensions\n",
    "    audio_extensions = ['.wav', '.mp3', '.flac', '.ogg', '.m4a']\n",
    "    \n",
    "    # Check if folder exists\n",
    "    if not os.path.isdir(audio_folder):\n",
    "        print(f\"Error: Folder '{audio_folder}' does not exist\")\n",
    "        return\n",
    "    \n",
    "    # Process each audio file in the folder\n",
    "    for file in os.listdir(audio_folder):\n",
    "        file_path = os.path.join(audio_folder, file)\n",
    "        \n",
    "        # Check if it's a file and has an audio extension\n",
    "        if os.path.isfile(file_path) and any(file.lower().endswith(ext) for ext in audio_extensions):\n",
    "            transcribe_audio_file(file_path, client, recogniser, base_name)\n",
    "        else:\n",
    "            print(f\"Skipping non-audio file: {file}\")\n",
    "\n",
    "#process_audio_folder()\n",
    "transcribe_audio_file(\"extracted_audios\\\\20250403_161711.wav\", client, recogniser, \"transcription_alb_test.txt\")"
   ]
  },
  {
   "cell_type": "markdown",
   "metadata": {},
   "source": [
    "Translating the transcription file"
   ]
  },
  {
   "cell_type": "code",
   "execution_count": null,
   "metadata": {},
   "outputs": [],
   "source": [
    "from googletrans import Translator\n",
    "\n",
    "input_file = \"transcription_alb.txt\"\n",
    "output_file = \"transcription_eng.txt\"\n",
    "\n",
    "target_language = \"en\" # en (english), de (deutch), ja (japonese)\n",
    "translator = Translator()\n",
    "\n",
    "try:\n",
    "    with open(input_file, 'r', encoding='utf-8') as infile, \\\n",
    "        open(output_file, 'w', encoding='utf-8') as outfile:\n",
    "        for line in infile:\n",
    "            line = line.strip()\n",
    "            if line:  # Ensure the line is not empty\n",
    "                parts = line.split(':', 2)  # Split into at most 3 parts\n",
    "                if len(parts) == 3:\n",
    "                    file_name, confidence_score, transcription_text = parts\n",
    "                    try:\n",
    "                        translation = translator.translate(transcription_text, src='sq', dest=target_language)\n",
    "                        translated_line = f\"{file_name}:{confidence_score}:{translation.text}\"\n",
    "                        outfile.write(translated_line + '\\n')\n",
    "                    except Exception as e:\n",
    "                        print(f\"Error translating line: {line} - {e}\")\n",
    "                        outfile.write(line + '\\n')  # Write the original line if translation fails\n",
    "                else:\n",
    "                    print(f\"Skipping invalid line format: {line}\")\n",
    "                    outfile.write(line + '\\n')  # Write the original line if format is wrong\n",
    "except FileNotFoundError:\n",
    "    print(f\"Error: Input file '{input_file}' not found.\")\n",
    "except Exception as e:\n",
    "    print(f\"An error occurred: {e}\")"
   ]
  },
  {
   "cell_type": "markdown",
   "metadata": {},
   "source": [
    "Voice cloning from the transcription\\own voice"
   ]
  },
  {
   "cell_type": "code",
   "execution_count": null,
   "metadata": {},
   "outputs": [],
   "source": []
  }
 ],
 "metadata": {
  "kernelspec": {
   "display_name": "venv",
   "language": "python",
   "name": "python3"
  },
  "language_info": {
   "codemirror_mode": {
    "name": "ipython",
    "version": 3
   },
   "file_extension": ".py",
   "mimetype": "text/x-python",
   "name": "python",
   "nbconvert_exporter": "python",
   "pygments_lexer": "ipython3",
   "version": "3.13.2"
  }
 },
 "nbformat": 4,
 "nbformat_minor": 2
}
