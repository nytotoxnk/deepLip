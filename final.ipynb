{
 "cells": [
  {
   "cell_type": "markdown",
   "metadata": {},
   "source": [
    "**Lip synchronization dubbing from albanian to [language]**"
   ]
  },
  {
   "cell_type": "markdown",
   "metadata": {},
   "source": [
    "Imports"
   ]
  },
  {
   "cell_type": "code",
   "execution_count": 13,
   "metadata": {},
   "outputs": [],
   "source": [
    "import os\n",
    "from google.cloud.speech_v2 import SpeechClient\n",
    "from google.cloud.speech_v2.types import cloud_speech\n",
    "from google.api_core.client_options import ClientOptions\n",
    "from google.cloud import speech_v2\n",
    "from google.api_core.exceptions import NotFound"
   ]
  },
  {
   "cell_type": "markdown",
   "metadata": {},
   "source": [
    "Google cloud data"
   ]
  },
  {
   "cell_type": "code",
   "execution_count": 14,
   "metadata": {},
   "outputs": [],
   "source": [
    "PROJECT_ID = \"890676014334\"\n",
    "LOCATION = \"europe-west4\"\n",
    "\n",
    "# Chirp 2 is only available in certain locations\n",
    "client_options_var = ClientOptions(api_endpoint=\"europe-west4-speech.googleapis.com\")\n",
    "\n",
    "# Initialize the client\n",
    "client = speech_v2.SpeechClient(client_options=client_options_var)\n",
    "recogniser = f\"projects/{PROJECT_ID}/locations/{LOCATION}/recognizers/albanian-recogniser\""
   ]
  },
  {
   "cell_type": "markdown",
   "metadata": {},
   "source": [
    "Audio extraction"
   ]
  },
  {
   "cell_type": "code",
   "execution_count": null,
   "metadata": {},
   "outputs": [],
   "source": [
    "import subprocess\n",
    "\n",
    "def extract_audio_ffmpeg(video_file, output_folder):\n",
    "    \"\"\"\n",
    "    Extracts audio from a video file using FFmpeg.\n",
    "\n",
    "    Args:\n",
    "        video_file (str): The path to the video file.\n",
    "        output_folder (str): The path to the folder where the audio file will be saved.\n",
    "    \"\"\"\n",
    "    try:\n",
    "        # 1. Create the output folder if it doesn't exist.\n",
    "        if not os.path.exists(output_folder):\n",
    "            os.makedirs(output_folder)\n",
    "\n",
    "        # 2. Construct the output audio file name.\n",
    "        video_file_name = os.path.splitext(os.path.basename(video_file))[0]\n",
    "        audio_file_path = os.path.join(output_folder, f\"{video_file_name}.mp3\")\n",
    "\n",
    "        # 3. Build the FFmpeg command.\n",
    "        # need to make the audio 16000hz or something like that but we keep it as is for now\n",
    "        command = [\n",
    "            \"ffmpeg\",\n",
    "            \"-i\",\n",
    "            video_file,\n",
    "            \"-vn\",\n",
    "            \"-acodec\",\n",
    "            \"libmp3lame\",  # Or \"aac\", \"pcm_s16le\", etc.\n",
    "            audio_file_path,\n",
    "        ]\n",
    "\n",
    "        # 4. Execute the FFmpeg command using subprocess.\n",
    "        subprocess.run(command, check=True, capture_output=True) #capture_output=True added\n",
    "\n",
    "        print(f\"Audio extracted from '{video_file}' and saved as '{audio_file_path}'\")\n",
    "\n",
    "    except subprocess.CalledProcessError as e:\n",
    "        print(f\"Error processing {video_file}: FFmpeg error: {e.stderr.decode()}\") #e.stderr added\n",
    "    except Exception as e:\n",
    "        print(f\"Error processing {video_file}: {e}\")\n",
    "\n",
    "def process_videos_in_folder_ffmpeg(video_folder, output_folder):\n",
    "    \"\"\"\n",
    "    Processes all video files in a folder, extracting the audio from each using FFmpeg.\n",
    "\n",
    "    Args:\n",
    "        video_folder (str): The path to the folder containing the video files.\n",
    "        output_folder (str): The path to the folder where the audio files will be saved.\n",
    "    \"\"\"\n",
    "    # 1. Get a list of all files in the video folder.\n",
    "    for filename in os.listdir(video_folder):\n",
    "        # 2. Construct the full path to the file.\n",
    "        video_file = os.path.join(video_folder, filename)\n",
    "\n",
    "        # 3. Check if the file is a video file.\n",
    "        if filename.lower().endswith(('.mp4', '.avi', '.mov', '.mkv', '.wmv')):\n",
    "            # 4. Extract the audio from the video file using FFmpeg.\n",
    "            extract_audio_ffmpeg(video_file, output_folder)\n",
    "        else:\n",
    "            print(f\"Skipping non-video file: {video_file}\")\n",
    "\n",
    "\n",
    "video_folder = \"videos\"  # Replace with the path to your video folder\n",
    "output_folder = \"audio_output\"  # Different output folder for FFmpeg\n",
    "\n",
    "# Process all video files in the specified folder using FFmpeg.\n",
    "process_videos_in_folder_ffmpeg(video_folder, output_folder)\n"
   ]
  },
  {
   "cell_type": "markdown",
   "metadata": {},
   "source": [
    "Transcribing the videos"
   ]
  },
  {
   "cell_type": "code",
   "execution_count": 12,
   "metadata": {},
   "outputs": [
    {
     "name": "stdout",
     "output_type": "stream",
     "text": [
      "Audio extracted\n",
      "Error: 503 GOAWAY received; Error code: 0; Debug Text: session_timed_out\n",
      "\n",
      "Recognizer not found, bad name or something...\n"
     ]
    }
   ],
   "source": [
    "from moviepy.editor import VideoFileClip\n",
    "import base64\n",
    "# need to change the imports here and improve a lot of things, audio file specs need to be checked\n",
    "# use ffmpeg more as a tool for audio sampling etc\n",
    "\n",
    "video_file = \"videos\\\\20250403_161711.mp4\" # CHANGE VIDEO FILE PATH\n",
    "\n",
    "audio_path = \"temp_audio.wav\"\n",
    "\n",
    "try: \n",
    "    video_clip = VideoFileClip(video_file)\n",
    "    video_clip.audio.write_audiofile(audio_path, logger=None)\n",
    "    video_clip.close()\n",
    "    print(f\"Audio extracted\")\n",
    "except:\n",
    "    print(f\"Error here: {e}\")\n",
    " \n",
    "# SAMPLE ROW\n",
    "# file_name:confidence_score:transcription\n",
    "# video_file_1.mp4:0.72:Po perse more djale e bere kete gje jo te ndershme.\n",
    "\n",
    "# Base name for the transcription file\n",
    "base_name = \"transcription_alb.txt\"\n",
    "\n",
    "\"\"\"\n",
    "    def encoded_audio(audio_file):\n",
    "    with open(audio_file, \"rb\") as f:\n",
    "        encoded_content = base64.b64encode(f.read())\n",
    "    return encoded_content\n",
    "\"\"\"\n",
    "# Read file as bytes to send to google API\n",
    "with open(audio_path, \"rb\") as f:\n",
    "    audio_content = f.read()    \n",
    "\n",
    "try:\n",
    "    config = speech_v2.RecognitionConfig(\n",
    "        auto_decoding_config=speech_v2.AutoDetectDecodingConfig(),\n",
    "        language_codes=[\"sq-AL\"], \n",
    "        model=\"chirp_2\",\n",
    "        features=cloud_speech.RecognitionFeatures(\n",
    "            enable_word_time_offsets=False, # this is not tested and good chance it does not work\n",
    "        ),\n",
    "    )\n",
    "            \n",
    "    request = speech_v2.RecognizeRequest(\n",
    "        recognizer=recogniser,\n",
    "        config=config,\n",
    "        content=audio_content\n",
    "    )\n",
    "            \n",
    "    # Transcribes the audio into text\n",
    "    # A response sample can be seen in responseResults.txt to see the format of the data\n",
    "    response = client.recognize(request=request)\n",
    "    \n",
    "    if response.results:\n",
    "       top_alternative = response.results[0].alternatives[0]\n",
    "       confidence = top_alternative.confidence\n",
    "       transcript = top_alternative.transcript\n",
    "\n",
    "       with open(base_name, \"a\", encoding=\"utf-8\") as f:\n",
    "           f.write(f\"{video_file}:{confidence}:{transcript}\\n\")\n",
    "       print(f\"Appended to {base_name}: {video_file}:{confidence}:{transcript}\")\n",
    "\n",
    "except Exception as e:\n",
    "    print(f\"Error: {e}\")    \n",
    "    print(\"\\nRecognizer not found, bad name or something...\")\n",
    "\n",
    "# Remove the temp audio file after extracting it from the video\n",
    "os.remove(audio_path)\n"
   ]
  },
  {
   "cell_type": "markdown",
   "metadata": {},
   "source": [
    "Translating the transcription file"
   ]
  },
  {
   "cell_type": "code",
   "execution_count": null,
   "metadata": {},
   "outputs": [],
   "source": [
    "from googletrans import Translator\n",
    "\n",
    "input_file = \"transcription_alb.txt\"\n",
    "output_file = \"transcription_eng.txt\"\n",
    "\n",
    "target_language = \"en\" # en (english), de (deutch), ja (japonese)\n",
    "translator = Translator()\n",
    "\n",
    "try:\n",
    "    with open(input_file, 'r', encoding='utf-8') as infile, \\\n",
    "        open(output_file, 'w', encoding='utf-8') as outfile:\n",
    "        for line in infile:\n",
    "            line = line.strip()\n",
    "            if line:  # Ensure the line is not empty\n",
    "                parts = line.split(':', 2)  # Split into at most 3 parts\n",
    "                if len(parts) == 3:\n",
    "                    file_name, confidence_score, transcription_text = parts\n",
    "                    try:\n",
    "                        translation = translator.translate(transcription_text, src='sq', dest=target_language)\n",
    "                        translated_line = f\"{file_name}:{confidence_score}:{translation.text}\"\n",
    "                        outfile.write(translated_line + '\\n')\n",
    "                    except Exception as e:\n",
    "                        print(f\"Error translating line: {line} - {e}\")\n",
    "                        outfile.write(line + '\\n')  # Write the original line if translation fails\n",
    "                else:\n",
    "                    print(f\"Skipping invalid line format: {line}\")\n",
    "                    outfile.write(line + '\\n')  # Write the original line if format is wrong\n",
    "except FileNotFoundError:\n",
    "    print(f\"Error: Input file '{input_file}' not found.\")\n",
    "except Exception as e:\n",
    "    print(f\"An error occurred: {e}\")"
   ]
  },
  {
   "cell_type": "markdown",
   "metadata": {},
   "source": [
    "Voice cloning from the transcription\\own voice"
   ]
  },
  {
   "cell_type": "code",
   "execution_count": null,
   "metadata": {},
   "outputs": [],
   "source": []
  }
 ],
 "metadata": {
  "kernelspec": {
   "display_name": "py311",
   "language": "python",
   "name": "python3"
  },
  "language_info": {
   "codemirror_mode": {
    "name": "ipython",
    "version": 3
   },
   "file_extension": ".py",
   "mimetype": "text/x-python",
   "name": "python",
   "nbconvert_exporter": "python",
   "pygments_lexer": "ipython3",
   "version": "3.11.11"
  }
 },
 "nbformat": 4,
 "nbformat_minor": 2
}
