{
 "cells": [
  {
   "cell_type": "markdown",
   "metadata": {},
   "source": [
    "**Lip synchronization dubbing from albanian to [language]**"
   ]
  },
  {
   "cell_type": "markdown",
   "metadata": {},
   "source": [
    "Imports"
   ]
  },
  {
   "cell_type": "code",
   "execution_count": null,
   "metadata": {},
   "outputs": [],
   "source": [
    "import os\n",
    "from google.cloud.speech_v2 import SpeechClient\n",
    "from google.cloud.speech_v2.types import cloud_speech\n",
    "from google.api_core.client_options import ClientOptions\n",
    "from google.cloud import speech_v2\n",
    "from google.api_core.exceptions import NotFound"
   ]
  },
  {
   "cell_type": "markdown",
   "metadata": {},
   "source": [
    "Google cloud data"
   ]
  },
  {
   "cell_type": "code",
   "execution_count": null,
   "metadata": {},
   "outputs": [],
   "source": [
    "PROJECT_ID = \"890676014334\"\n",
    "LOCATION = \"europe-west4\"\n",
    "\n",
    "# Chirp 2 is only available in certain locations\n",
    "client_options_var = ClientOptions(api_endpoint=\"europe-west4-speech.googleapis.com\")\n",
    "\n",
    "# Initialize the client\n",
    "client = speech_v2.SpeechClient(client_options=client_options_var)\n",
    "recogniser = f\"projects/{PROJECT_ID}/locations/{LOCATION}/recognizers/albanian-recogniser\""
   ]
  },
  {
   "cell_type": "markdown",
   "metadata": {},
   "source": [
    "Transcribing the videos"
   ]
  },
  {
   "cell_type": "code",
   "execution_count": null,
   "metadata": {},
   "outputs": [],
   "source": [
    "video_file = \"path_to_video\" # CHANGE VIDEO FILE PATH\n",
    "\n",
    "audio_path = \"temp_audio.wav\"\n",
    "video_file.audio.write_audiofile(audio_path, fps=16000, logger=None)\n",
    " \n",
    "# SAMPLE ROW\n",
    "# file_name:confidence_score:transcription\n",
    "# video_file_1.mp4:0.72:Po perse more djale e bere kete gje jo te ndershme.\n",
    "\n",
    "# Base name for the transcription file\n",
    "base_name = \"transcription_alb.txt\"\n",
    "\n",
    "try:\n",
    "    config = speech_v2.RecognitionConfig(\n",
    "        auto_decoding_config=speech_v2.AutoDetectDecodingConfig(),\n",
    "        language_codes=[\"sq-AL\"], \n",
    "        model=\"chirp_2\",\n",
    "        features=cloud_speech.RecognitionFeatures(\n",
    "            enable_word_time_offsets=True, # this is not tested and good chance it does not work\n",
    "        ),\n",
    "    )\n",
    "            \n",
    "    request = speech_v2.RecognizeRequest(\n",
    "        recognizer=recogniser,\n",
    "        config=config,\n",
    "        content=audio_path\n",
    "    )\n",
    "            \n",
    "    # Transcribes the audio into text\n",
    "    response = client.recognize(request=request)\n",
    "\n",
    "    # with a mode, append, we only add data at the end of the pointer.\n",
    "    with open(base_name, \"a\", encoding=\"utf-8\") as f:\n",
    "        f.write(f\"{video_file}:{alternatives.confidence}:{alternatives.transcript}\\n\")\n",
    "\n",
    "except Exception as e:\n",
    "    print(f\"Error: {e}\")    \n",
    "    print(\"\\nRecognizer not found, bad name or something...\")\n",
    "\n",
    "# Remove the temp audio file after extracting it from the video\n",
    "os.remove(audio_path)\n"
   ]
  },
  {
   "cell_type": "markdown",
   "metadata": {},
   "source": [
    "Translating the transcription file"
   ]
  },
  {
   "cell_type": "code",
   "execution_count": null,
   "metadata": {},
   "outputs": [],
   "source": [
    "from googletrans import Translator\n",
    "\n",
    "input_file = \"transcription_alb.txt\"\n",
    "output_file = \"transcription_eng.txt\"\n",
    "\n",
    "target_language = \"en\" # en (english), de (deutch), ja (japonese)\n",
    "translator = Translator()\n",
    "\n",
    "try:\n",
    "    with open(input_file, 'r', encoding='utf-8') as infile, \\\n",
    "        open(output_file, 'w', encoding='utf-8') as outfile:\n",
    "        for line in infile:\n",
    "            line = line.strip()\n",
    "            if line:  # Ensure the line is not empty\n",
    "                parts = line.split(':', 2)  # Split into at most 3 parts\n",
    "                if len(parts) == 3:\n",
    "                    file_name, confidence_score, transcription_text = parts\n",
    "                    try:\n",
    "                        translation = translator.translate(transcription_text, src='sq', dest=target_language)\n",
    "                        translated_line = f\"{file_name}:{confidence_score}:{translation.text}\"\n",
    "                        outfile.write(translated_line + '\\n')\n",
    "                    except Exception as e:\n",
    "                        print(f\"Error translating line: {line} - {e}\")\n",
    "                        outfile.write(line + '\\n')  # Write the original line if translation fails\n",
    "                else:\n",
    "                    print(f\"Skipping invalid line format: {line}\")\n",
    "                    outfile.write(line + '\\n')  # Write the original line if format is wrong\n",
    "except FileNotFoundError:\n",
    "    print(f\"Error: Input file '{input_file}' not found.\")\n",
    "except Exception as e:\n",
    "    print(f\"An error occurred: {e}\")"
   ]
  },
  {
   "cell_type": "markdown",
   "metadata": {},
   "source": [
    "Voice cloning from the transcription\\own voice"
   ]
  },
  {
   "cell_type": "code",
   "execution_count": null,
   "metadata": {},
   "outputs": [],
   "source": []
  }
 ],
 "metadata": {
  "language_info": {
   "name": "python"
  }
 },
 "nbformat": 4,
 "nbformat_minor": 2
}
